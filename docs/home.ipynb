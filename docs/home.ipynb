{
 "cells": [
  {
   "cell_type": "code",
   "execution_count": 1,
   "metadata": {},
   "outputs": [
    {
     "name": "stdout",
     "output_type": "stream",
     "text": [
      "677\n"
     ]
    },
    {
     "data": {
      "text/html": [
       "<div>\n",
       "<style scoped>\n",
       "    .dataframe tbody tr th:only-of-type {\n",
       "        vertical-align: middle;\n",
       "    }\n",
       "\n",
       "    .dataframe tbody tr th {\n",
       "        vertical-align: top;\n",
       "    }\n",
       "\n",
       "    .dataframe thead th {\n",
       "        text-align: right;\n",
       "    }\n",
       "</style>\n",
       "<table border=\"1\" class=\"dataframe\">\n",
       "  <thead>\n",
       "    <tr style=\"text-align: right;\">\n",
       "      <th></th>\n",
       "    </tr>\n",
       "  </thead>\n",
       "  <tbody>\n",
       "  </tbody>\n",
       "</table>\n",
       "</div>"
      ],
      "text/plain": [
       "Empty DataFrame\n",
       "Columns: []\n",
       "Index: []"
      ]
     },
     "execution_count": 1,
     "metadata": {},
     "output_type": "execute_result"
    }
   ],
   "source": [
    "import pandas as pd\n",
    "\n",
    "from tflump import LineStore, get_tfl_client\n",
    "\n",
    "bus_store = LineStore(client=get_tfl_client(), mode=\"bus\")\n",
    "bus_store.load()\n",
    "\n",
    "print(len(bus_store.stoppoint_store().data))\n",
    "\n",
    "\n",
    "stoppoints = bus_store.stoppoint_store().dataframe()\n",
    "\n",
    "\n",
    "stoppoints.head()\n"
   ]
  },
  {
   "cell_type": "code",
   "execution_count": null,
   "metadata": {},
   "outputs": [],
   "source": [
    "def enum_value(e):\n",
    "    return e.value\n",
    "\n",
    "\n",
    "# serviceTypes enum\n",
    "df[\"serviceTypes\"] = df[\"serviceTypes\"].apply(lambda l: [enum_value(e) for e in l])\n",
    "df[\"mode\"] = df[\"mode\"].apply(enum_value)\n",
    "\n",
    "df[\"created\"] = pd.to_datetime(df[\"created\"])\n",
    "df[\"modified\"] = pd.to_datetime(df[\"modified\"])\n"
   ]
  }
 ],
 "metadata": {
  "kernelspec": {
   "display_name": ".venv",
   "language": "python",
   "name": "python3"
  },
  "language_info": {
   "codemirror_mode": {
    "name": "ipython",
    "version": 3
   },
   "file_extension": ".py",
   "mimetype": "text/x-python",
   "name": "python",
   "nbconvert_exporter": "python",
   "pygments_lexer": "ipython3",
   "version": "3.12.3"
  }
 },
 "nbformat": 4,
 "nbformat_minor": 2
}
